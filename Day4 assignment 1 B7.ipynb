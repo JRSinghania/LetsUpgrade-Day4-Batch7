{
  "nbformat": 4,
  "nbformat_minor": 0,
  "metadata": {
    "colab": {
      "name": "Untitled0.ipynb",
      "provenance": [],
      "authorship_tag": "ABX9TyNNZ8+KVgJtCCYG4P1woyyy",
      "include_colab_link": true
    },
    "kernelspec": {
      "name": "python3",
      "display_name": "Python 3"
    }
  },
  "cells": [
    {
      "cell_type": "markdown",
      "metadata": {
        "id": "view-in-github",
        "colab_type": "text"
      },
      "source": [
        "<a href=\"https://colab.research.google.com/github/JRSinghania/LetsUpgrade-Day4-Batch7/blob/master/Day4%20assignment%201%20B7.ipynb\" target=\"_parent\"><img src=\"https://colab.research.google.com/assets/colab-badge.svg\" alt=\"Open In Colab\"/></a>"
      ]
    },
    {
      "cell_type": "code",
      "metadata": {
        "id": "SUZ0g2h12C4j",
        "colab_type": "code",
        "colab": {}
      },
      "source": [
        "a = 1042000\n",
        "b = 702648265\n",
        "c = 0\n",
        "o = len(str(a))\n",
        "for i in range(a,b):\n",
        "  a = a + 1\n",
        "  temp = a\n",
        "  while temp > 0:\n",
        "    d = temp % 10\n",
        "    c += d ** o\n",
        "    temp //= 10\n",
        "  if a == c:\n",
        "    print (a, \"is an armstrong number\")\n",
        "    break\n",
        "  else:\n",
        "    print (\"nope\")\n"
      ],
      "execution_count": null,
      "outputs": []
    },
    {
      "cell_type": "markdown",
      "metadata": {
        "id": "Tm8iQ0Bz94IB",
        "colab_type": "text"
      },
      "source": [
        ""
      ]
    },
    {
      "cell_type": "markdown",
      "metadata": {
        "id": "9sngOvcy93_u",
        "colab_type": "text"
      },
      "source": [
        ""
      ]
    }
  ]
}